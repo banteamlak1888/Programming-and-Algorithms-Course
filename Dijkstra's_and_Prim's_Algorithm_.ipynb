{
  "nbformat": 4,
  "nbformat_minor": 0,
  "metadata": {
    "colab": {
      "provenance": [],
      "authorship_tag": "ABX9TyMOGfU+E1TjuLyEaF0Krdkk",
      "include_colab_link": true
    },
    "kernelspec": {
      "name": "python3",
      "display_name": "Python 3"
    },
    "language_info": {
      "name": "python"
    }
  },
  "cells": [
    {
      "cell_type": "markdown",
      "metadata": {
        "id": "view-in-github",
        "colab_type": "text"
      },
      "source": [
        "<a href=\"https://colab.research.google.com/github/banteamlak1888/Programming-and-Algorithms-Course/blob/main/Dijkstra's_and_Prim's_Algorithm_.ipynb\" target=\"_parent\"><img src=\"https://colab.research.google.com/assets/colab-badge.svg\" alt=\"Open In Colab\"/></a>"
      ]
    },
    {
      "cell_type": "code",
      "source": [
        "!pip install networkx"
      ],
      "metadata": {
        "colab": {
          "base_uri": "https://localhost:8080/"
        },
        "id": "wc7JtYzDowKd",
        "outputId": "3f5d7c36-da2d-4f1b-bc9c-f0b5adda79d7"
      },
      "execution_count": null,
      "outputs": [
        {
          "output_type": "stream",
          "name": "stdout",
          "text": [
            "Requirement already satisfied: networkx in /usr/local/lib/python3.10/dist-packages (3.4.2)\n"
          ]
        }
      ]
    },
    {
      "cell_type": "markdown",
      "source": [
        "# ***Necessary Library***"
      ],
      "metadata": {
        "id": "D5hvTvY1ex7r"
      }
    },
    {
      "cell_type": "code",
      "source": [
        "import random\n",
        "import time\n",
        "import matplotlib.pyplot as plt\n",
        "import heapq\n",
        "from collections import defaultdict"
      ],
      "metadata": {
        "id": "bEr9M-__eyj7"
      },
      "execution_count": null,
      "outputs": []
    },
    {
      "cell_type": "markdown",
      "source": [
        "* **random**: Used to generate random weights and nodes for the graph.\n",
        "* **time**: Used to measure the execution time of algorithms.\n",
        "* **plotlib**: Used to plot performance comparisons.\n",
        "* **heapq**: Provides a priority queue implementation (binary heap).\n",
        "* **defaultdict**: A dictionary-like class from collections for missing keys."
      ],
      "metadata": {
        "id": "gUEKKHj9PAud"
      }
    },
    {
      "cell_type": "markdown",
      "source": [
        "# **Graph Class**"
      ],
      "metadata": {
        "id": "Hm6o4gktf7wS"
      }
    },
    {
      "cell_type": "code",
      "source": [
        "class Graph:\n",
        "    def __init__(self):\n",
        "        self.graph = defaultdict(list)\n",
        "\n",
        "    def add_edge(self, u, v, weight):\n",
        "        self.graph[u].append((v, weight))\n",
        "        self.graph[v].append((u, weight))  # For undirected graph"
      ],
      "metadata": {
        "id": "zRpmr7Dgsqkj"
      },
      "execution_count": null,
      "outputs": []
    },
    {
      "cell_type": "markdown",
      "source": [
        "* **Graph** class represents an undirected graph using an adjacency list.\n",
        "\n",
        "* *__init__* method: Initializes the graph using defaultdict to store edges.\n",
        "* **add_edge  method**: Adds an edge between nodes **u** and **v** with a specified weight, storing both directions since it’s undirected.\n",
        "\n",
        "\n",
        "\n",
        "\n"
      ],
      "metadata": {
        "id": "4cmiO6xhQ5hc"
      }
    },
    {
      "cell_type": "markdown",
      "source": [
        "# **Dijkstra's Algorithm with Binary Heap**"
      ],
      "metadata": {
        "id": "l30fw5IxgJPS"
      }
    },
    {
      "cell_type": "code",
      "source": [
        "def dijkstra_heap(graph, start):\n",
        "    min_heap = []\n",
        "    distances = {node: float('inf') for node in graph.graph}\n",
        "    distances[start] = 0\n",
        "    heapq.heappush(min_heap, (0, start))\n",
        "\n",
        "    while min_heap:\n",
        "        current_distance, current_node = heapq.heappop(min_heap)\n",
        "\n",
        "        if current_distance > distances[current_node]:\n",
        "            continue\n",
        "\n",
        "        for neighbor, weight in graph.graph[current_node]:\n",
        "            distance = current_distance + weight\n",
        "            if distance < distances[neighbor]:\n",
        "                distances[neighbor] = distance\n",
        "                heapq.heappush(min_heap, (distance, neighbor))\n",
        "\n",
        "    return distances"
      ],
      "metadata": {
        "id": "7eZGQ6PZgJ0z"
      },
      "execution_count": null,
      "outputs": []
    },
    {
      "cell_type": "markdown",
      "source": [
        "* Initializes ***min_heap*** to manage nodes by minimum distance.\n",
        "* Sets all nodes' distances to infinity except for the ***start*** node.\n",
        "* Pushes ***(0, start)*** into the heap to begin the algorithm.\n",
        "\n",
        "\n",
        "\n"
      ],
      "metadata": {
        "id": "tlEA3gG6Riq9"
      }
    },
    {
      "cell_type": "markdown",
      "source": [
        "## **Dijkstra's Algorithm with Linked List**"
      ],
      "metadata": {
        "id": "P0YASAQ6gSnE"
      }
    },
    {
      "cell_type": "code",
      "execution_count": null,
      "metadata": {
        "id": "vFxp7yJcoOez"
      },
      "outputs": [],
      "source": [
        "class LinkedListNode:\n",
        "    def __init__(self, distance, node):\n",
        "        self.distance = distance\n",
        "        self.node = node\n",
        "        self.next = None\n",
        "\n",
        "class LinkedList:\n",
        "    def __init__(self):\n",
        "        self.head = None\n",
        "\n",
        "    def push(self, distance, node):\n",
        "        new_node = LinkedListNode(distance, node)\n",
        "        if not self.head or self.head.distance > distance:\n",
        "            new_node.next = self.head\n",
        "            self.head = new_node\n",
        "        else:\n",
        "            current = self.head\n",
        "            while current.next and current.next.distance < distance:\n",
        "                current = current.next\n",
        "            new_node.next = current.next\n",
        "            current.next = new_node\n",
        "\n",
        "    def pop(self):\n",
        "        if self.head:\n",
        "            node = self.head\n",
        "            self.head = self.head.next\n",
        "            return node.distance, node.node\n",
        "        return None"
      ]
    },
    {
      "cell_type": "markdown",
      "source": [
        "\n",
        "\n",
        "* **LinkedListNode** represents a node with distance and node fields, and next pointer.\n",
        "* **While** there are nodes in the heap, removes the node with the smallest distance.\n",
        "* **If** a node’s distance exceeds the stored distance, skips processing it.\n",
        "* **Loops** over neighbors, updating their distance if a shorter path is found.\n",
        "* **Pushes** updated distances into the heap to ensure minimum distances remain prioritized.\n",
        "\n",
        "\n"
      ],
      "metadata": {
        "id": "KNihBmp0ShtZ"
      }
    },
    {
      "cell_type": "code",
      "source": [
        "def dijkstra_linked_list(graph, start):\n",
        "    linked_list = LinkedList()\n",
        "    distances = {node: float('inf') for node in graph.graph}\n",
        "    distances[start] = 0\n",
        "    linked_list.push(0, start)\n",
        "\n",
        "    while linked_list.head:\n",
        "        current_distance, current_node = linked_list.pop()\n",
        "        for neighbor, weight in graph.graph[current_node]:\n",
        "            distance = current_distance + weight\n",
        "            if distance < distances[neighbor]:\n",
        "                distances[neighbor] = distance\n",
        "                linked_list.push(distance, neighbor)\n",
        "\n",
        "    return distances"
      ],
      "metadata": {
        "id": "g8RmIdjXeTVQ"
      },
      "execution_count": null,
      "outputs": []
    },
    {
      "cell_type": "markdown",
      "source": [
        "* **Initializes** linked_list, sets node distances, and adds start node.\n",
        "* **While** there are nodes, removes the node with the smallest distance.\n",
        "* **Updates** neighbor distances, adding them to the linked list when shorter paths are found.\n",
        "\n"
      ],
      "metadata": {
        "id": "DztAzduweUAm"
      }
    },
    {
      "cell_type": "markdown",
      "source": [
        "# **Prim's Algorithm with Binary Heap**"
      ],
      "metadata": {
        "id": "guk7iNgVgaaT"
      }
    },
    {
      "cell_type": "code",
      "source": [
        "def prim_heap(graph):\n",
        "    start = next(iter(graph.graph))  # arbitrary starting node\n",
        "    min_heap = [(0, start)]\n",
        "    visited = set()\n",
        "    total_cost = 0\n",
        "\n",
        "    while min_heap:\n",
        "        weight, node = heapq.heappop(min_heap)\n",
        "        if node in visited:\n",
        "            continue\n",
        "        visited.add(node)\n",
        "        total_cost += weight\n",
        "\n",
        "        for neighbor, edge_weight in graph.graph[node]:\n",
        "            if neighbor not in visited:\n",
        "                heapq.heappush(min_heap, (edge_weight, neighbor))\n",
        "\n",
        "    return total_cost"
      ],
      "metadata": {
        "id": "PovWIwAEsXVM"
      },
      "execution_count": null,
      "outputs": []
    },
    {
      "cell_type": "markdown",
      "source": [
        "\n",
        "\n",
        "* Selects an arbitrary start node and initializes **min_heap**, *visited* set, and **total_cost**.\n",
        "* While **min_heap** is non-empty, removes min-weight edge; skips if the node is already visited.\n",
        "* Adds node to visited set and updates total MST cost.\n",
        "* Adds neighbors to the heap if they aren’t already visited.\n",
        "\n"
      ],
      "metadata": {
        "id": "ztSDwS0Qi_X_"
      }
    },
    {
      "cell_type": "markdown",
      "source": [
        "# **Prim's Algorithm with Linked List**"
      ],
      "metadata": {
        "id": "f6GnT85cgiYT"
      }
    },
    {
      "cell_type": "code",
      "source": [
        "def prim_linked_list(graph):\n",
        "    start = next(iter(graph.graph))  # arbitrary starting node\n",
        "    linked_list = LinkedList()\n",
        "    linked_list.push(0, start)\n",
        "    visited = set()\n",
        "    total_cost = 0\n",
        "\n",
        "    while linked_list.head:\n",
        "        weight, node = linked_list.pop()\n",
        "        if node in visited:\n",
        "            continue\n",
        "        visited.add(node)\n",
        "        total_cost += weight\n",
        "\n",
        "        for neighbor, edge_weight in graph.graph[node]:\n",
        "            if neighbor not in visited:\n",
        "                linked_list.push(edge_weight, neighbor)\n",
        "\n",
        "    return total_cost"
      ],
      "metadata": {
        "id": "-SQ9ISTdZdsu"
      },
      "execution_count": null,
      "outputs": []
    },
    {
      "cell_type": "markdown",
      "source": [
        "\n",
        "\n",
        "* Initializes *start, linked_list, visited, and total_cost.*\n",
        "* Removes the smallest-weight edge, skipping if already visited\n",
        "* Adds node to visited set and updates total MST cos\n",
        "* Adds neighbors to linked list if they aren’t already visited.\n",
        "\n"
      ],
      "metadata": {
        "id": "1Ng6Pnv3j32g"
      }
    },
    {
      "cell_type": "markdown",
      "source": [
        "# **Function to generate a random graph**"
      ],
      "metadata": {
        "id": "Td1IemnVh-EC"
      }
    },
    {
      "cell_type": "code",
      "source": [
        "def generate_random_graph(num_vertices, num_edges):\n",
        "    graph = Graph()\n",
        "    edges = set()\n",
        "\n",
        "    while len(edges) < num_edges:\n",
        "        u = random.randint(0, num_vertices - 1)\n",
        "        v = random.randint(0, num_vertices - 1)\n",
        "        weight = random.randint(1, 10)\n",
        "        if u != v and (u, v) not in edges and (v, u) not in edges:\n",
        "            graph.add_edge(u, v, weight)\n",
        "            edges.add((u, v))\n",
        "\n",
        "    return graph"
      ],
      "metadata": {
        "id": "_eWB_YVrZdwN"
      },
      "execution_count": null,
      "outputs": []
    },
    {
      "cell_type": "markdown",
      "source": [
        "* Initializes *graph* and *edges* set to avoid duplicates.\n",
        "* Randomly selects nodes and weights.\n",
        "* Ensures no duplicate or self-loops and adds valid edges."
      ],
      "metadata": {
        "id": "BMUEYZ2vksYd"
      }
    },
    {
      "cell_type": "markdown",
      "source": [
        "# Timing function"
      ],
      "metadata": {
        "id": "S1eNQEptc4Ah"
      }
    },
    {
      "cell_type": "code",
      "source": [
        "def time_algorithm(algorithm, graph, start=None): # Change here : start=None\n",
        "    start_time = time.time()\n",
        "    if start is not None:  # Change here: Check if start is provided\n",
        "        result = algorithm(graph, start)\n",
        "    else:\n",
        "        result = algorithm(graph)\n",
        "    end_time = time.time()\n",
        "    elapsed_time = (end_time - start_time) * 1000  # Convert to milliseconds\n",
        "    print(f\"{algorithm.__name__} execution time: {elapsed_time:.2f} ms\")\n",
        "    return elapsed_time"
      ],
      "metadata": {
        "id": "vcjN9ebTdChw"
      },
      "execution_count": null,
      "outputs": []
    },
    {
      "cell_type": "markdown",
      "source": [
        "* ***time_algorithm*** function: Measures execution time and prints it in milliseconds."
      ],
      "metadata": {
        "id": "KO41yGhRc385"
      }
    },
    {
      "cell_type": "markdown",
      "source": [
        "# **Performance comparison**"
      ],
      "metadata": {
        "id": "rZ2vm-RRiNrC"
      }
    },
    {
      "cell_type": "code",
      "source": [
        "def compare_performance(max_vertices, step, num_edges):\n",
        "    sizes = list(range(step, max_vertices + 1, step))\n",
        "    dijkstra_heap_times = []\n",
        "    dijkstra_linked_list_times = []\n",
        "    prim_heap_times = []\n",
        "    prim_linked_list_times = []\n",
        "\n",
        "    for size in sizes:\n",
        "        graph = generate_random_graph(size, num_edges)\n",
        "\n",
        "        # Dijkstra's Algorithm\n",
        "        dijkstra_heap_time = time_algorithm(dijkstra_heap, graph, 0)\n",
        "        dijkstra_linked_list_time = time_algorithm(dijkstra_linked_list, graph, 0)\n",
        "\n",
        "        dijkstra_heap_times.append(dijkstra_heap_time)\n",
        "        dijkstra_linked_list_times.append(dijkstra_linked_list_time)\n",
        "\n",
        "        # Prim's Algorithm\n",
        "        prim_heap_time = time_algorithm(prim_heap, graph)\n",
        "        prim_linked_list_time = time_algorithm(prim_linked_list, graph)\n",
        "\n",
        "        prim_heap_times.append(prim_heap_time)\n",
        "        prim_linked_list_times.append(prim_linked_list_time)\n",
        "\n",
        "    return sizes, dijkstra_heap_times, dijkstra_linked_list_times, prim_heap_times, prim_linked_list_times"
      ],
      "metadata": {
        "id": "NIvH1FhmZmfV"
      },
      "execution_count": null,
      "outputs": []
    },
    {
      "cell_type": "markdown",
      "source": [
        "* **Initializes** graph sizes for comparison and lists to store results.\n",
        "* **Runs Dijkstra’s** algorithms for each graph size, storing times.\n",
        "* **Runs Prim’s** algorithms for each graph size, storing times."
      ],
      "metadata": {
        "id": "vJ1u9RMbncIO"
      }
    },
    {
      "cell_type": "markdown",
      "source": [
        "# **Function to plot results**"
      ],
      "metadata": {
        "id": "_7paWmiciXir"
      }
    },
    {
      "cell_type": "code",
      "source": [
        "def plot_results(sizes, dijkstra_heap_times, dijkstra_linked_list_times, prim_heap_times, prim_linked_list_times):\n",
        "    plt.figure(figsize=(12, 8))\n",
        "\n",
        "    # Dijkstra's Algorithm Results\n",
        "    plt.subplot(2, 2, 1)\n",
        "    plt.plot(sizes, dijkstra_heap_times, label='Dijkstra (Heap)', color='blue')\n",
        "    plt.plot(sizes, dijkstra_linked_list_times, label='Dijkstra (Linked List)', color='orange')\n",
        "    plt.title(\"Dijkstra's Algorithm Performance\")\n",
        "    plt.xlabel('Number of Vertices')\n",
        "    plt.ylabel('Time (ms)')\n",
        "    plt.legend()\n",
        "\n",
        "    # Prim's Algorithm Results\n",
        "    plt.subplot(2, 2, 2)\n",
        "    plt.plot(sizes, prim_heap_times, label='Prim (Heap)', color='green')\n",
        "    plt.plot(sizes, prim_linked_list_times, label='Prim (Linked List)', color='red')\n",
        "    plt.title(\"Prim's Algorithm Performance\")\n",
        "    plt.xlabel('Number of Vertices')\n",
        "    plt.ylabel('Time (ms)')\n",
        "    plt.legend()\n",
        "\n",
        "    plt.tight_layout()\n",
        "    plt.show()"
      ],
      "metadata": {
        "id": "lng0um6GZdzd"
      },
      "execution_count": null,
      "outputs": []
    },
    {
      "cell_type": "markdown",
      "source": [
        "# **Main Execution**"
      ],
      "metadata": {
        "id": "SekckWAhikkq"
      }
    },
    {
      "cell_type": "code",
      "source": [
        "if __name__ == \"__main__\":\n",
        "    max_vertices = 1000\n",
        "    step = 100\n",
        "    num_edges = int(max_vertices * 1.5)  # Adjust edge count as needed\n",
        "\n",
        "    sizes, dijkstra_heap_times, dijkstra_linked_list_times, prim_heap_times, prim_linked_list_times = compare_performance(max_vertices, step, num_edges)\n",
        "\n",
        "    plot_results(sizes, dijkstra_heap_times, dijkstra_linked_list_times, prim_heap_times, prim_linked_list_times)"
      ],
      "metadata": {
        "colab": {
          "base_uri": "https://localhost:8080/",
          "height": 953
        },
        "id": "c_3URdWnZyTN",
        "outputId": "26a0a4ff-00fc-49b4-dc68-773a7b16b5a8"
      },
      "execution_count": null,
      "outputs": [
        {
          "output_type": "stream",
          "name": "stdout",
          "text": [
            "dijkstra_heap execution time: 0.72 ms\n",
            "dijkstra_linked_list execution time: 2.43 ms\n",
            "prim_heap execution time: 1.80 ms\n",
            "prim_linked_list execution time: 69.25 ms\n",
            "dijkstra_heap execution time: 0.89 ms\n",
            "dijkstra_linked_list execution time: 3.61 ms\n",
            "prim_heap execution time: 1.64 ms\n",
            "prim_linked_list execution time: 42.82 ms\n",
            "dijkstra_heap execution time: 1.25 ms\n",
            "dijkstra_linked_list execution time: 6.79 ms\n",
            "prim_heap execution time: 1.78 ms\n",
            "prim_linked_list execution time: 42.30 ms\n",
            "dijkstra_heap execution time: 1.27 ms\n",
            "dijkstra_linked_list execution time: 9.04 ms\n",
            "prim_heap execution time: 2.10 ms\n",
            "prim_linked_list execution time: 35.28 ms\n",
            "dijkstra_heap execution time: 1.27 ms\n",
            "dijkstra_linked_list execution time: 11.65 ms\n",
            "prim_heap execution time: 2.13 ms\n",
            "prim_linked_list execution time: 32.32 ms\n",
            "dijkstra_heap execution time: 1.41 ms\n",
            "dijkstra_linked_list execution time: 13.06 ms\n",
            "prim_heap execution time: 3.54 ms\n",
            "prim_linked_list execution time: 43.58 ms\n",
            "dijkstra_heap execution time: 1.86 ms\n",
            "dijkstra_linked_list execution time: 20.09 ms\n",
            "prim_heap execution time: 2.22 ms\n",
            "prim_linked_list execution time: 23.95 ms\n",
            "dijkstra_heap execution time: 1.68 ms\n",
            "dijkstra_linked_list execution time: 15.32 ms\n",
            "prim_heap execution time: 2.23 ms\n",
            "prim_linked_list execution time: 22.03 ms\n",
            "dijkstra_heap execution time: 1.83 ms\n",
            "dijkstra_linked_list execution time: 20.08 ms\n",
            "prim_heap execution time: 3.23 ms\n",
            "prim_linked_list execution time: 25.03 ms\n",
            "dijkstra_heap execution time: 3.02 ms\n",
            "dijkstra_linked_list execution time: 23.46 ms\n",
            "prim_heap execution time: 2.68 ms\n",
            "prim_linked_list execution time: 21.68 ms\n"
          ]
        },
        {
          "output_type": "display_data",
          "data": {
            "text/plain": [
              "<Figure size 1200x800 with 2 Axes>"
            ],
            "image/png": "[encoded data removed]"
          },
          "metadata": {}
        }
      ]
    },
    {
      "cell_type": "markdown",
      "source": [
        "# In General This Implementation finalized\n",
        "The purpose of this comparison was to evaluate the efficiency and execution time of Dijkstra’s and Prim’s algorithms when implemented with different data structures—binary heap and linked and compare with performance and exaction time\n",
        "![djk.png](data:image/png;base64,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)\n",
        "\n",
        "* **Scalability** : The binary heap implementation scales better with larger graphs due to its logarithmic time complexity for critical operations. The linked list implementation demonstrates much slower performance as the size of the graph increases.\n",
        "* **Efficiency** in Practice: For practical applications, especially with large graphs, the binary heap implementation is recommended due to its superior performance characteristics.  \n",
        "      Recommendations\n",
        "* **Use Binary Heap**: For any implementation of Dijkstra's algorithm in applications with potential large graphs.\n",
        "* **Consider Alternatives**: In cases where simplicity is paramount and graph sizes are small, a linked list may still be used, but performance should be monitored."
      ],
      "metadata": {
        "id": "hlgiHNBXFLCw"
      }
    }
  ]
}