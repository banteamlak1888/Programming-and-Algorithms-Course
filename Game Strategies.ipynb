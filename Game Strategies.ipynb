{
  "nbformat": 4,
  "nbformat_minor": 0,
  "metadata": {
    "colab": {
      "provenance": [],
      "authorship_tag": "ABX9TyMrQmPvgTde3OTJLq1jw0b7",
      "include_colab_link": true
    },
    "kernelspec": {
      "name": "python3",
      "display_name": "Python 3"
    },
    "language_info": {
      "name": "python"
    }
  },
  "cells": [
    {
      "cell_type": "markdown",
      "metadata": {
        "id": "view-in-github",
        "colab_type": "text"
      },
      "source": [
        "<a href=\"https://colab.research.google.com/github/banteamlak1888/Programming-and-Algorithms-Course/blob/main/Game%20Strategies.ipynb\" target=\"_parent\"><img src=\"https://colab.research.google.com/assets/colab-badge.svg\" alt=\"Open In Colab\"/></a>"
      ]
    },
    {
      "cell_type": "markdown",
      "source": [
        "# **Greedy Algorithm for Coin Game**\n",
        "The **Greedy Algorithm** is a heuristic method where players pick the maximum of the available two ends on each turn. This solution doesn't always guarantee an optimal result for Player 1, as it lacks foresight about subsequent moves."
      ],
      "metadata": {
        "id": "u4DlPwtrEcfq"
      }
    },
    {
      "cell_type": "code",
      "execution_count": 17,
      "metadata": {
        "colab": {
          "base_uri": "https://localhost:8080/"
        },
        "id": "_8kY3RMcBMxC",
        "outputId": "9440122b-c233-481e-988e-a3ff814620b8"
      },
      "outputs": [
        {
          "output_type": "stream",
          "name": "stdout",
          "text": [
            "\n",
            "  👉 Player 1 Score: 30, Player 2 Score: 38\n"
          ]
        }
      ],
      "source": [
        "def greedy_coin_game(values):\n",
        "    player1_score = 0\n",
        "    player2_score = 0\n",
        "    left, right = 0, len(values) - 1\n",
        "    turn = 0  # 0 for Player 1, 1 for Player 2\n",
        "\n",
        "    while left <= right:\n",
        "        # Choose the larger value from the two ends\n",
        "        if values[left] >= values[right]:\n",
        "            chosen = values[left]\n",
        "            left += 1\n",
        "        else:\n",
        "            chosen = values[right]\n",
        "            right -= 1\n",
        "\n",
        "        # Update the respective player's score\n",
        "        if turn == 0:\n",
        "            player1_score += chosen\n",
        "        else:\n",
        "            player2_score += chosen\n",
        "\n",
        "        # Switch turns\n",
        "        turn = 1 - turn\n",
        "\n",
        "    return player1_score, player2_score\n",
        "values = [3, 9, 1, 2, 4, 8, 6, 5, 7, 10, 7, 4, 2]\n",
        "p1_score, p2_score = greedy_coin_game(values)\n",
        "print(\"\")\n",
        "print(f\"  👉 Player 1 Score: {p1_score}, Player 2 Score: {p2_score}\")\n"
      ]
    },
    {
      "cell_type": "markdown",
      "source": [
        "\n",
        "\n",
        "\n",
        "* Player 1 does not maximize their score using this method.\n",
        "* The lack of optimization leads to Player 2 obtaining a higher score.\n",
        "\n"
      ],
      "metadata": {
        "id": "iVAEryYdVgsp"
      }
    },
    {
      "cell_type": "markdown",
      "source": [
        "# **Optimal Coin Game with Dynamic Programming**\n",
        "The **Dynamic Programming (DP)** solution involves precomputing the best moves at each possible game state. It ensures Player 1 optimizes their score by considering all possible future outcomes."
      ],
      "metadata": {
        "id": "o7fdl27mEw0Z"
      }
    },
    {
      "cell_type": "code",
      "source": [
        "def optimal_coin_game(values):\n",
        "    n = len(values)\n",
        "    dp = [[0] * n for _ in range(n)]\n",
        "\n",
        "    # Base case: One coin left\n",
        "    for i in range(n):\n",
        "        dp[i][i] = values[i]\n",
        "\n",
        "    # Fill the table for subproblems of increasing lengths\n",
        "    for length in range(2, n + 1):\n",
        "        for i in range(n - length + 1):\n",
        "            j = i + length - 1\n",
        "            # Choose the coin from the start or the end, minimizing the opponent's next possible score\n",
        "            dp[i][j] = max(\n",
        "                values[i] + min(dp[i+1][j-1] if i+1 <= j-1 else 0, dp[i+2][j] if i+2 <= j else 0),\n",
        "                values[j] + min(dp[i+1][j-1] if i+1 <= j-1 else 0, dp[i][j-2] if i <= j-2 else 0)\n",
        "            )\n",
        "\n",
        "    return dp[0][n-1]\n",
        "values = [3, 9, 1, 2, 4, 8, 6, 5, 7, 10, 7, 4, 2]\n",
        "optimal_score = optimal_coin_game(values)\n",
        "print(\"\")\n",
        "print(f\"    👉 Maximum score Player 1 can achieve: {optimal_score}\")"
      ],
      "metadata": {
        "colab": {
          "base_uri": "https://localhost:8080/"
        },
        "id": "ABwr-HvlExkw",
        "outputId": "63d3510d-3a89-4df6-90ea-142d22e25f68"
      },
      "execution_count": 18,
      "outputs": [
        {
          "output_type": "stream",
          "name": "stdout",
          "text": [
            "\n",
            "    👉 Maximum score Player 1 can achieve: 30\n"
          ]
        }
      ]
    },
    {
      "cell_type": "markdown",
      "source": [
        "* Player 1 can guarantee a maximum score of 30 when playing optimally.\n",
        "* The solution considers all possible future states, ensuring the best outcome.\n"
      ],
      "metadata": {
        "id": "lS6bJRfHgEU7"
      }
    },
    {
      "cell_type": "markdown",
      "source": [
        "# **Performance Comparison**\n",
        "Running time and memory consumption of greedy method and dynamic programming"
      ],
      "metadata": {
        "id": "QniTF09sFUiY"
      }
    },
    {
      "cell_type": "code",
      "source": [
        "import time\n",
        "import tracemalloc\n",
        "\n",
        "# Example input\n",
        "values = [3, 9, 1, 2, 4, 8, 6, 5, 7, 10, 7, 4, 2]\n",
        "\n",
        "# Greedy Algorithm - Time and Memory Consumption\n",
        "tracemalloc.start()\n",
        "start_time = time.time()\n",
        "greedy_result = greedy_coin_game(values)\n",
        "end_time = time.time()\n",
        "current, peak = tracemalloc.get_traced_memory()\n",
        "tracemalloc.stop()\n",
        "\n",
        "greedy_time = end_time - start_time\n",
        "greedy_memory = peak / 1024  # Convert to KB\n",
        "\n",
        "# Dynamic Programming - Time and Memory Consumption\n",
        "tracemalloc.start()\n",
        "start_time = time.time()\n",
        "dp_result = optimal_coin_game(values)\n",
        "end_time = time.time()\n",
        "current, peak = tracemalloc.get_traced_memory()\n",
        "tracemalloc.stop()\n",
        "\n",
        "dp_time = end_time - start_time\n",
        "dp_memory = peak / 1024  # Convert to KB\n",
        "\n",
        "# Results\n",
        "print(\"✍️\")\n",
        "print(f\"Greedy Algorithm:    ⏰ = {greedy_time:.5f}s ,  💿📀 = {greedy_memory:.2f}KB\")\n",
        "print(f\"Dynamic Programming: ⏰ = {dp_time:.5f}s ,   💿📀 = {dp_memory:.2f}KB\")"
      ],
      "metadata": {
        "colab": {
          "base_uri": "https://localhost:8080/"
        },
        "id": "-5nenv-9FLXY",
        "outputId": "95f06678-f1fe-4a34-c921-46cefeca119e"
      },
      "execution_count": 19,
      "outputs": [
        {
          "output_type": "stream",
          "name": "stdout",
          "text": [
            "✍️\n",
            "Greedy Algorithm:    ⏰ = 0.00026s ,  💿📀 = 11.02KB\n",
            "Dynamic Programming: ⏰ = 0.00181s ,   💿📀 = 11.10KB\n"
          ]
        }
      ]
    },
    {
      "cell_type": "markdown",
      "source": [
        "\n",
        "\n",
        "* The **Greedy Algorithm** is faster and consumes slightly less memory.\n",
        "* The **DP Algorithm** is slower but guarantees an optimal solution, making it suitable for critical applications despite the minor overhead.\n",
        "\n"
      ],
      "metadata": {
        "id": "CoqRzpR-fbs1"
      }
    }
  ]
}