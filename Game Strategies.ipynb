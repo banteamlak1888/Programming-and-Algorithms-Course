{
  "nbformat": 4,
  "nbformat_minor": 0,
  "metadata": {
    "colab": {
      "provenance": [],
      "authorship_tag": "ABX9TyPApJxNwjQyIdqMIVxmJUeO",
      "include_colab_link": true
    },
    "kernelspec": {
      "name": "python3",
      "display_name": "Python 3"
    },
    "language_info": {
      "name": "python"
    }
  },
  "cells": [
    {
      "cell_type": "markdown",
      "metadata": {
        "id": "view-in-github",
        "colab_type": "text"
      },
      "source": [
        "<a href=\"https://colab.research.google.com/github/banteamlak1888/Programming-and-Algorithms-Course/blob/main/Game%20Strategies.ipynb\" target=\"_parent\"><img src=\"https://colab.research.google.com/assets/colab-badge.svg\" alt=\"Open In Colab\"/></a>"
      ]
    },
    {
      "cell_type": "markdown",
      "source": [
        "# Greedy Method-->Approch_1"
      ],
      "metadata": {
        "id": "u4DlPwtrEcfq"
      }
    },
    {
      "cell_type": "markdown",
      "source": [],
      "metadata": {
        "id": "VXyTGpmqGhKQ"
      }
    },
    {
      "cell_type": "code",
      "source": [
        "import time\n",
        "import tracemalloc"
      ],
      "metadata": {
        "id": "cTO3hLPAGs6g"
      },
      "execution_count": 3,
      "outputs": []
    },
    {
      "cell_type": "code",
      "execution_count": 1,
      "metadata": {
        "colab": {
          "base_uri": "https://localhost:8080/"
        },
        "id": "_8kY3RMcBMxC",
        "outputId": "56f80d92-3ac0-44a2-9bbf-c713bdb01966"
      },
      "outputs": [
        {
          "output_type": "stream",
          "name": "stdout",
          "text": [
            "Player 1 Score: 30, Player 2 Score: 38\n"
          ]
        }
      ],
      "source": [
        "def greedy_coin_game(values):\n",
        "    player1_score = 0\n",
        "    player2_score = 0\n",
        "    left, right = 0, len(values) - 1\n",
        "    turn = 0  # 0 for Player 1, 1 for Player 2\n",
        "\n",
        "    while left <= right:\n",
        "        # Choose the larger value from the two ends\n",
        "        if values[left] >= values[right]:\n",
        "            chosen = values[left]\n",
        "            left += 1\n",
        "        else:\n",
        "            chosen = values[right]\n",
        "            right -= 1\n",
        "\n",
        "        # Update the respective player's score\n",
        "        if turn == 0:\n",
        "            player1_score += chosen\n",
        "        else:\n",
        "            player2_score += chosen\n",
        "\n",
        "        # Switch turns\n",
        "        turn = 1 - turn\n",
        "\n",
        "    return player1_score, player2_score\n",
        "values = [3, 9, 1, 2, 4, 8, 6, 5, 7, 10, 7, 4, 2]\n",
        "p1_score, p2_score = greedy_coin_game(values)\n",
        "print(f\"Player 1 Score: {p1_score}, Player 2 Score: {p2_score}\")"
      ]
    },
    {
      "cell_type": "markdown",
      "source": [
        "# Dynamic Programming (Optimal Solution)-->Approch_2"
      ],
      "metadata": {
        "id": "o7fdl27mEw0Z"
      }
    },
    {
      "cell_type": "code",
      "source": [
        "def optimal_coin_game(values):\n",
        "    n = len(values)\n",
        "    dp = [[0] * n for _ in range(n)]\n",
        "\n",
        "    # Base case: One coin left\n",
        "    for i in range(n):\n",
        "        dp[i][i] = values[i]\n",
        "\n",
        "    # Fill the table for subproblems of increasing lengths\n",
        "    for length in range(2, n + 1):\n",
        "        for i in range(n - length + 1):\n",
        "            j = i + length - 1\n",
        "            # Choose the coin from the start or the end, minimizing the opponent's next possible score\n",
        "            dp[i][j] = max(\n",
        "                values[i] + min(dp[i+1][j-1] if i+1 <= j-1 else 0, dp[i+2][j] if i+2 <= j else 0),\n",
        "                values[j] + min(dp[i+1][j-1] if i+1 <= j-1 else 0, dp[i][j-2] if i <= j-2 else 0)\n",
        "            )\n",
        "\n",
        "    return dp[0][n-1]\n",
        "values = [3, 9, 1, 2, 4, 8, 6, 5, 7, 10, 7, 4, 2]\n",
        "optimal_score = optimal_coin_game(values)\n",
        "print(f\"Maximum score Player 1 can achieve: {optimal_score}\")"
      ],
      "metadata": {
        "colab": {
          "base_uri": "https://localhost:8080/"
        },
        "id": "ABwr-HvlExkw",
        "outputId": "e5e16501-5018-4c6f-c5ed-a27dca38ae41"
      },
      "execution_count": 2,
      "outputs": [
        {
          "output_type": "stream",
          "name": "stdout",
          "text": [
            "Maximum score Player 1 can achieve: 30\n"
          ]
        }
      ]
    },
    {
      "cell_type": "markdown",
      "source": [
        "**Running time and memory consumption of greedy method and dynamic programming**"
      ],
      "metadata": {
        "id": "QniTF09sFUiY"
      }
    },
    {
      "cell_type": "code",
      "source": [
        "# Example input\n",
        "values = [3, 9, 1, 2, 4, 8, 6, 5, 7, 10, 7, 4, 2]\n",
        "\n",
        "# Greedy Algorithm - Time and Memory Consumption\n",
        "tracemalloc.start()\n",
        "start_time = time.time()\n",
        "greedy_result = greedy_coin_game(values)\n",
        "end_time = time.time()\n",
        "current, peak = tracemalloc.get_traced_memory()\n",
        "tracemalloc.stop()\n",
        "\n",
        "greedy_time = end_time - start_time\n",
        "greedy_memory = peak / 1024  # Convert to KB\n",
        "\n",
        "# Dynamic Programming - Time and Memory Consumption\n",
        "tracemalloc.start()\n",
        "start_time = time.time()\n",
        "dp_result = optimal_coin_game(values)\n",
        "end_time = time.time()\n",
        "current, peak = tracemalloc.get_traced_memory()\n",
        "tracemalloc.stop()\n",
        "\n",
        "dp_time = end_time - start_time\n",
        "dp_memory = peak / 1024  # Convert to KB\n",
        "\n",
        "# Results\n",
        "print(f\"Greedy Algorithm: Time = {greedy_time:.5f}s, Memory = {greedy_memory:.2f}KB\")\n",
        "print(f\"Dynamic Programming: Time = {dp_time:.5f}s, Memory = {dp_memory:.2f}KB\")"
      ],
      "metadata": {
        "colab": {
          "base_uri": "https://localhost:8080/"
        },
        "id": "-5nenv-9FLXY",
        "outputId": "eda3717d-a346-41a7-9ec6-4108911d8bcc"
      },
      "execution_count": 4,
      "outputs": [
        {
          "output_type": "stream",
          "name": "stdout",
          "text": [
            "Greedy Algorithm: Time = 0.00018s, Memory = 10.76KB\n",
            "Dynamic Programming: Time = 0.00039s, Memory = 11.02KB\n"
          ]
        }
      ]
    }
  ]
}